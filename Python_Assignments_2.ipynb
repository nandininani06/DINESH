{
  "nbformat": 4,
  "nbformat_minor": 0,
  "metadata": {
    "colab": {
      "provenance": [],
      "authorship_tag": "ABX9TyNkHSp9orti4j/v4S9QD1dT",
      "include_colab_link": true
    },
    "kernelspec": {
      "name": "python3",
      "display_name": "Python 3"
    },
    "language_info": {
      "name": "python"
    }
  },
  "cells": [
    {
      "cell_type": "markdown",
      "metadata": {
        "id": "view-in-github",
        "colab_type": "text"
      },
      "source": [
        "<a href=\"https://colab.research.google.com/github/nandininani06/DINESH/blob/main/Python_Assignments_2.ipynb\" target=\"_parent\"><img src=\"https://colab.research.google.com/assets/colab-badge.svg\" alt=\"Open In Colab\"/></a>"
      ]
    },
    {
      "cell_type": "markdown",
      "source": [
        "1 . Print the input text without vowels using List comprehensions\n",
        "\n",
        "input = 'hai'\n",
        "Expected output = h\n"
      ],
      "metadata": {
        "id": "aX8bJFzAgdqT"
      }
    },
    {
      "cell_type": "code",
      "execution_count": 14,
      "metadata": {
        "id": "dYIW88NNe0Se",
        "colab": {
          "base_uri": "https://localhost:8080/"
        },
        "outputId": "12d30823-423b-4162-e922-83cc4c72aeb3"
      },
      "outputs": [
        {
          "output_type": "stream",
          "name": "stdout",
          "text": [
            "Enter the string :india\n",
            "n\n",
            "d\n"
          ]
        }
      ],
      "source": [
        "a = str(input(\"Enter the string :\"))\n",
        "b = []\n",
        "for x in a:\n",
        "  if x in \"aeiouAEIOU\":\n",
        "    b.append(x)\n",
        "  else:\n",
        "    print(x)"
      ]
    },
    {
      "cell_type": "markdown",
      "source": [
        "2 . Print only vowels from the text using List comprehensions\n",
        "input = data\n",
        "Expected output = dt\n"
      ],
      "metadata": {
        "id": "Uu5zS6e8iBfU"
      }
    },
    {
      "cell_type": "code",
      "source": [
        "a =str(input(\"Enter the string :\"))\n",
        "b = []\n",
        "for x in a:\n",
        "  if x in \"aeiouAEIOU\":\n",
        "    b.append(x)\n",
        "print(str(b))"
      ],
      "metadata": {
        "colab": {
          "base_uri": "https://localhost:8080/"
        },
        "id": "NjSTBAi4h7Kf",
        "outputId": "56ae1efd-ba41-4b64-dfb8-6f7acb3292bf"
      },
      "execution_count": 15,
      "outputs": [
        {
          "output_type": "stream",
          "name": "stdout",
          "text": [
            "Enter the string :India\n",
            "['I', 'i', 'a']\n"
          ]
        }
      ]
    },
    {
      "cell_type": "markdown",
      "source": [
        "3. print each valu from the list with its index\n",
        "\n",
        "input = [10,11,50,34]\n",
        "\n",
        "Expected output = [100 , 111 , 502 , 343]\n"
      ],
      "metadata": {
        "id": "WLRo6o26iwGX"
      }
    },
    {
      "cell_type": "code",
      "source": [
        "a = [10,11,50,34]\n",
        "for x in a:\n",
        "  print(str(x)+str(a.index(x)))"
      ],
      "metadata": {
        "id": "Goi8wqp6iaVP",
        "colab": {
          "base_uri": "https://localhost:8080/"
        },
        "outputId": "5d4d02f0-0a37-4ab6-b715-f0914537ff23"
      },
      "execution_count": 2,
      "outputs": [
        {
          "output_type": "stream",
          "name": "stdout",
          "text": [
            "100\n",
            "111\n",
            "502\n",
            "343\n"
          ]
        }
      ]
    },
    {
      "cell_type": "markdown",
      "source": [
        "4 . This is a Python Program to print all integers that aren’t divisible by either 2 or 3 and lies between 1 and 50.\n"
      ],
      "metadata": {
        "id": "qEV-gFIa25IK"
      }
    },
    {
      "cell_type": "code",
      "source": [
        "b = []\n",
        "for x in range(1,50):\n",
        "  if(x%2==0 or x%3==0):\n",
        "    b.append(x)\n",
        "  else:\n",
        "    print(x)\n"
      ],
      "metadata": {
        "colab": {
          "base_uri": "https://localhost:8080/"
        },
        "id": "WQMJ-7u72FHm",
        "outputId": "6babb0ad-35de-4c37-d1d6-c9086b89ef5d"
      },
      "execution_count": 3,
      "outputs": [
        {
          "output_type": "stream",
          "name": "stdout",
          "text": [
            "1\n",
            "5\n",
            "7\n",
            "11\n",
            "13\n",
            "17\n",
            "19\n",
            "23\n",
            "25\n",
            "29\n",
            "31\n",
            "35\n",
            "37\n",
            "41\n",
            "43\n",
            "47\n",
            "49\n"
          ]
        }
      ]
    },
    {
      "cell_type": "markdown",
      "source": [
        "5 . The program takes in an integer and prints the smallest divisor of the integer.\n"
      ],
      "metadata": {
        "id": "_SsyoJOiSAWN"
      }
    },
    {
      "cell_type": "code",
      "source": [
        "a=int(input(\"Enter the Integer :\"))\n",
        "b=[]\n",
        "for i in range(2,a+1):\n",
        "  if(a%i==0):\n",
        "    b.append(i)\n",
        "print(b[0])"
      ],
      "metadata": {
        "colab": {
          "base_uri": "https://localhost:8080/"
        },
        "id": "quAFmHhrR4ZT",
        "outputId": "1fe26eaf-c50d-4f1e-8a6a-3e6beb3e6815"
      },
      "execution_count": 4,
      "outputs": [
        {
          "output_type": "stream",
          "name": "stdout",
          "text": [
            "Enter the Integer :566\n",
            "2\n"
          ]
        }
      ]
    },
    {
      "cell_type": "markdown",
      "source": [
        "6 . Write a Python program to check if it is a strong number or not .\n"
      ],
      "metadata": {
        "id": "T0s0yWzuSpcM"
      }
    },
    {
      "cell_type": "code",
      "source": [
        "a=int(input(\"Enter the Integer :\"))\n",
        "count=0\n",
        "temp=a\n",
        "while(temp>0):\n",
        "  fact=1\n",
        "  b=temp%10\n",
        "  for i in range(1,b+1):\n",
        "    fact=fact*i\n",
        "  count=count+fact\n",
        "  temp=temp//10\n",
        "if(count==a):\n",
        "  print(f\"The number {a} is Strong Number\")\n",
        "else:\n",
        "  print(f\"The number {a} is not a Strong Number\")"
      ],
      "metadata": {
        "colab": {
          "base_uri": "https://localhost:8080/"
        },
        "id": "EmU3cC17Sjni",
        "outputId": "c6aa7045-7490-4ef3-c3cb-36bcca4da9c5"
      },
      "execution_count": 7,
      "outputs": [
        {
          "output_type": "stream",
          "name": "stdout",
          "text": [
            "Enter the Integer :145\n",
            "The number 145 is Strong Number\n"
          ]
        }
      ]
    },
    {
      "cell_type": "markdown",
      "source": [
        "7 . Write a Python program that takes input from the user and displays that input back in upper and lower cases.\n"
      ],
      "metadata": {
        "id": "lHIWZ9alUp_I"
      }
    },
    {
      "cell_type": "code",
      "source": [
        "a = str(input(\"Enter the String :\"))\n",
        "print(a.upper())\n",
        "print(a.lower())"
      ],
      "metadata": {
        "colab": {
          "base_uri": "https://localhost:8080/"
        },
        "id": "sZ4oh-dbTkuE",
        "outputId": "9580397e-fad2-4afd-f080-59b94cfab2d1"
      },
      "execution_count": 8,
      "outputs": [
        {
          "output_type": "stream",
          "name": "stdout",
          "text": [
            "Enter the String :Nandhini\n",
            "NANDHINI\n",
            "nandhini\n"
          ]
        }
      ]
    },
    {
      "cell_type": "markdown",
      "source": [
        "8 . Write a Python program to remove spaces from a given string\n",
        "\n",
        "input = united states\n",
        "\n",
        "output = unitedstates\n"
      ],
      "metadata": {
        "id": "hUP6dzWFVTKH"
      }
    },
    {
      "cell_type": "code",
      "source": [
        "a = str(input(\"Enter the String :\"))\n",
        "b=a.replace(\" \",\"\")\n",
        "print(a)\n",
        "print(b)"
      ],
      "metadata": {
        "colab": {
          "base_uri": "https://localhost:8080/"
        },
        "id": "-ge45KybVQR8",
        "outputId": "50029cba-87a7-4fc9-9ab6-e97501f00e46"
      },
      "execution_count": 9,
      "outputs": [
        {
          "output_type": "stream",
          "name": "stdout",
          "text": [
            "Enter the String :nandini pidugu\n",
            "nandini pidugu\n",
            "nandinipidugu\n"
          ]
        }
      ]
    },
    {
      "cell_type": "markdown",
      "source": [
        "9 . Write a Python program to capitalize first and last letters of each word of a given string.\n"
      ],
      "metadata": {
        "id": "K4htwKsKV5FP"
      }
    },
    {
      "cell_type": "code",
      "source": [
        "a = str(input(\"Enter the String :\"))\n",
        "b = a.split()\n",
        "for x in b:\n",
        "  print(x[0:1].upper()+x[1:len(x)-1]+x[-1].upper())"
      ],
      "metadata": {
        "colab": {
          "base_uri": "https://localhost:8080/"
        },
        "id": "Xk8DDJJaV0fe",
        "outputId": "89c9450f-5b89-4557-e995-f55a1eaaf548"
      },
      "execution_count": 12,
      "outputs": [
        {
          "output_type": "stream",
          "name": "stdout",
          "text": [
            "Enter the String :python is easy\n",
            "PythoN\n",
            "IS\n",
            "EasY\n"
          ]
        }
      ]
    },
    {
      "cell_type": "markdown",
      "source": [
        "10 . write a python program to find length of a string but should not use        len keyword\n",
        "\n"
      ],
      "metadata": {
        "id": "6KYhxF40XHjo"
      }
    },
    {
      "cell_type": "code",
      "source": [
        "a = str(input(\"Enter the String :\"))\n",
        "count = 0\n",
        "for x in a:\n",
        "  count=count+1\n",
        "print(\"Length of the string is\",count)"
      ],
      "metadata": {
        "colab": {
          "base_uri": "https://localhost:8080/"
        },
        "id": "CeCRa4aNWiBM",
        "outputId": "9f0429f7-7e4c-4553-f482-91b82c241210"
      },
      "execution_count": 13,
      "outputs": [
        {
          "output_type": "stream",
          "name": "stdout",
          "text": [
            "Enter the String :nandhini\n",
            "Length of the string is 8\n"
          ]
        }
      ]
    },
    {
      "cell_type": "code",
      "source": [],
      "metadata": {
        "id": "ySicV854XhEK"
      },
      "execution_count": null,
      "outputs": []
    }
  ]
}